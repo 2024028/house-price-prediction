{
  "metadata": {
    "kernelspec": {
      "language": "python",
      "display_name": "Python 3",
      "name": "python3"
    },
    "language_info": {
      "name": "python",
      "version": "3.7.6",
      "mimetype": "text/x-python",
      "codemirror_mode": {
        "name": "ipython",
        "version": 3
      },
      "pygments_lexer": "ipython3",
      "nbconvert_exporter": "python",
      "file_extension": ".py"
    },
    "kaggle": {
      "accelerator": "none",
      "dataSources": [
        {
          "sourceId": 26737,
          "sourceType": "datasetVersion",
          "datasetId": 20710
        }
      ],
      "dockerImageVersionId": 30019,
      "isInternetEnabled": true,
      "language": "python",
      "sourceType": "notebook",
      "isGpuEnabled": false
    },
    "colab": {
      "name": "Bengaluru House Price Prediction",
      "provenance": []
    }
  },
  "nbformat_minor": 0,
  "nbformat": 4,
  "cells": [
    {
      "source": [
        "\n",
        "# IMPORTANT: RUN THIS CELL IN ORDER TO IMPORT YOUR KAGGLE DATA SOURCES\n",
        "# TO THE CORRECT LOCATION (/kaggle/input) IN YOUR NOTEBOOK,\n",
        "# THEN FEEL FREE TO DELETE THIS CELL.\n",
        "# NOTE: THIS NOTEBOOK ENVIRONMENT DIFFERS FROM KAGGLE'S PYTHON\n",
        "# ENVIRONMENT SO THERE MAY BE MISSING LIBRARIES USED BY YOUR\n",
        "# NOTEBOOK.\n",
        "\n",
        "import os\n",
        "import sys\n",
        "from tempfile import NamedTemporaryFile\n",
        "from urllib.request import urlopen\n",
        "from urllib.parse import unquote, urlparse\n",
        "from urllib.error import HTTPError\n",
        "from zipfile import ZipFile\n",
        "import tarfile\n",
        "import shutil\n",
        "\n",
        "CHUNK_SIZE = 40960\n",
        "DATA_SOURCE_MAPPING = 'bengaluru-house-price-data:https%3A%2F%2Fstorage.googleapis.com%2Fkaggle-data-sets%2F20710%2F26737%2Fbundle%2Farchive.zip%3FX-Goog-Algorithm%3DGOOG4-RSA-SHA256%26X-Goog-Credential%3Dgcp-kaggle-com%2540kaggle-161607.iam.gserviceaccount.com%252F20240820%252Fauto%252Fstorage%252Fgoog4_request%26X-Goog-Date%3D20240820T114302Z%26X-Goog-Expires%3D259200%26X-Goog-SignedHeaders%3Dhost%26X-Goog-Signature%3D2a8435ccf4b7ede54c3ae78affb622733754e3067c554514a34fe20d83cc3713ce0adb0ea66f1879f612f0909ed0016b46b198eebf0c80d4022b1340746d1d1a4a7ea502b5caf9fd50ede88f44fbeebec01696ed87cce8064b64794ccc54165b23b3932de96f0bc86d801db34d3bda9efe0e9ebb5cb6b1c5ad7d05d1736cff478b8daa8eb1fdb15e414032c35f66f5f425dab26acfb747bb9da3ec6a57677e72db2a48a5d203b3e407da86f6b123e2a3b35776b4377ba636873920997e0c3be92c43900bc13a9807ea273a27c21cd36ded9f3f7619048ff0e0cf9fe4bd9cc9e48f0630aae8000730e69dacdf93e0041dbaab14dd5e2c1a62bc1cb5a22971ef03'\n",
        "\n",
        "KAGGLE_INPUT_PATH='/kaggle/input'\n",
        "KAGGLE_WORKING_PATH='/kaggle/working'\n",
        "KAGGLE_SYMLINK='kaggle'\n",
        "\n",
        "!umount /kaggle/input/ 2> /dev/null\n",
        "shutil.rmtree('/kaggle/input', ignore_errors=True)\n",
        "os.makedirs(KAGGLE_INPUT_PATH, 0o777, exist_ok=True)\n",
        "os.makedirs(KAGGLE_WORKING_PATH, 0o777, exist_ok=True)\n",
        "\n",
        "try:\n",
        "  os.symlink(KAGGLE_INPUT_PATH, os.path.join(\"..\", 'input'), target_is_directory=True)\n",
        "except FileExistsError:\n",
        "  pass\n",
        "try:\n",
        "  os.symlink(KAGGLE_WORKING_PATH, os.path.join(\"..\", 'working'), target_is_directory=True)\n",
        "except FileExistsError:\n",
        "  pass\n",
        "\n",
        "for data_source_mapping in DATA_SOURCE_MAPPING.split(','):\n",
        "    directory, download_url_encoded = data_source_mapping.split(':')\n",
        "    download_url = unquote(download_url_encoded)\n",
        "    filename = urlparse(download_url).path\n",
        "    destination_path = os.path.join(KAGGLE_INPUT_PATH, directory)\n",
        "    try:\n",
        "        with urlopen(download_url) as fileres, NamedTemporaryFile() as tfile:\n",
        "            total_length = fileres.headers['content-length']\n",
        "            print(f'Downloading {directory}, {total_length} bytes compressed')\n",
        "            dl = 0\n",
        "            data = fileres.read(CHUNK_SIZE)\n",
        "            while len(data) > 0:\n",
        "                dl += len(data)\n",
        "                tfile.write(data)\n",
        "                done = int(50 * dl / int(total_length))\n",
        "                sys.stdout.write(f\"\\r[{'=' * done}{' ' * (50-done)}] {dl} bytes downloaded\")\n",
        "                sys.stdout.flush()\n",
        "                data = fileres.read(CHUNK_SIZE)\n",
        "            if filename.endswith('.zip'):\n",
        "              with ZipFile(tfile) as zfile:\n",
        "                zfile.extractall(destination_path)\n",
        "            else:\n",
        "              with tarfile.open(tfile.name) as tarfile:\n",
        "                tarfile.extractall(destination_path)\n",
        "            print(f'\\nDownloaded and uncompressed: {directory}')\n",
        "    except HTTPError as e:\n",
        "        print(f'Failed to load (likely expired) {download_url} to path {destination_path}')\n",
        "        continue\n",
        "    except OSError as e:\n",
        "        print(f'Failed to load {download_url} to path {destination_path}')\n",
        "        continue\n",
        "\n",
        "print('Data source import complete.')\n"
      ],
      "metadata": {
        "id": "_X-BygX-mQpL"
      },
      "cell_type": "code",
      "outputs": [],
      "execution_count": null
    },
    {
      "cell_type": "markdown",
      "source": [
        "### Data Science Regression Project: Predicting Home Prices in Banglore"
      ],
      "metadata": {
        "id": "L6UK0vEWmQpP"
      }
    },
    {
      "cell_type": "code",
      "source": [
        "import pandas as pd\n",
        "import numpy as np\n",
        "from matplotlib import pyplot as plt\n",
        "%matplotlib inline\n",
        "import matplotlib\n",
        "matplotlib.rcParams[\"figure.figsize\"] = (20,10)"
      ],
      "metadata": {
        "_uuid": "8f2839f25d086af736a60e9eeb907d3b93b6e0e5",
        "_cell_guid": "b1076dfc-b9ad-4769-8c92-a6c4dae69d19",
        "execution": {
          "iopub.status.busy": "2024-08-19T17:38:06.945677Z",
          "iopub.execute_input": "2024-08-19T17:38:06.946011Z",
          "iopub.status.idle": "2024-08-19T17:38:06.956211Z",
          "shell.execute_reply.started": "2024-08-19T17:38:06.945979Z",
          "shell.execute_reply": "2024-08-19T17:38:06.95507Z"
        },
        "trusted": true,
        "id": "u0qEppbfmQpS"
      },
      "execution_count": null,
      "outputs": []
    },
    {
      "cell_type": "markdown",
      "source": [
        "#### Data Load: Load banglore home prices into a dataframe"
      ],
      "metadata": {
        "id": "QdQc5vdEmQpS"
      }
    },
    {
      "cell_type": "code",
      "source": [
        "df1 = pd.read_csv(\"../input/bengaluru-house-price-data/Bengaluru_House_Data.csv\")\n",
        "df1.head()"
      ],
      "metadata": {
        "_uuid": "d629ff2d2480ee46fbb7e2d37f6b5fab8052498a",
        "_cell_guid": "79c7e3d0-c299-4dcb-8224-4455121ee9b0",
        "execution": {
          "iopub.status.busy": "2024-08-19T17:38:06.957992Z",
          "iopub.execute_input": "2024-08-19T17:38:06.958439Z",
          "iopub.status.idle": "2024-08-19T17:38:07.019996Z",
          "shell.execute_reply.started": "2024-08-19T17:38:06.958404Z",
          "shell.execute_reply": "2024-08-19T17:38:07.018637Z"
        },
        "trusted": true,
        "id": "fEzKZo5ImQpT"
      },
      "execution_count": null,
      "outputs": []
    },
    {
      "cell_type": "code",
      "source": [
        "df1.shape"
      ],
      "metadata": {
        "execution": {
          "iopub.status.busy": "2024-08-19T17:38:07.021773Z",
          "iopub.execute_input": "2024-08-19T17:38:07.022229Z",
          "iopub.status.idle": "2024-08-19T17:38:07.029693Z",
          "shell.execute_reply.started": "2024-08-19T17:38:07.022148Z",
          "shell.execute_reply": "2024-08-19T17:38:07.028414Z"
        },
        "trusted": true,
        "id": "-yy9uNrzmQpT"
      },
      "execution_count": null,
      "outputs": []
    },
    {
      "cell_type": "code",
      "source": [
        "df1.columns"
      ],
      "metadata": {
        "execution": {
          "iopub.status.busy": "2024-08-19T17:38:07.031597Z",
          "iopub.execute_input": "2024-08-19T17:38:07.032071Z",
          "iopub.status.idle": "2024-08-19T17:38:07.044783Z",
          "shell.execute_reply.started": "2024-08-19T17:38:07.032011Z",
          "shell.execute_reply": "2024-08-19T17:38:07.043294Z"
        },
        "trusted": true,
        "id": "xDnyz4MUmQpU"
      },
      "execution_count": null,
      "outputs": []
    },
    {
      "cell_type": "code",
      "source": [
        "df1['area_type'].unique()"
      ],
      "metadata": {
        "execution": {
          "iopub.status.busy": "2024-08-19T17:38:07.046357Z",
          "iopub.execute_input": "2024-08-19T17:38:07.046756Z",
          "iopub.status.idle": "2024-08-19T17:38:07.063463Z",
          "shell.execute_reply.started": "2024-08-19T17:38:07.046715Z",
          "shell.execute_reply": "2024-08-19T17:38:07.062223Z"
        },
        "trusted": true,
        "id": "4Xi4sWJRmQpU"
      },
      "execution_count": null,
      "outputs": []
    },
    {
      "cell_type": "code",
      "source": [
        "df1['area_type'].value_counts()"
      ],
      "metadata": {
        "execution": {
          "iopub.status.busy": "2024-08-19T17:38:07.067241Z",
          "iopub.execute_input": "2024-08-19T17:38:07.067667Z",
          "iopub.status.idle": "2024-08-19T17:38:07.081777Z",
          "shell.execute_reply.started": "2024-08-19T17:38:07.067625Z",
          "shell.execute_reply": "2024-08-19T17:38:07.080512Z"
        },
        "trusted": true,
        "id": "w6sez5FomQpV"
      },
      "execution_count": null,
      "outputs": []
    },
    {
      "cell_type": "markdown",
      "source": [
        "##### Drop features that are not required to build our model"
      ],
      "metadata": {
        "id": "daWSfswMmQpV"
      }
    },
    {
      "cell_type": "code",
      "source": [
        "df2 = df1.drop(['area_type','society','balcony','availability'],axis='columns')\n",
        "df2.shape"
      ],
      "metadata": {
        "execution": {
          "iopub.status.busy": "2024-08-19T17:38:07.084952Z",
          "iopub.execute_input": "2024-08-19T17:38:07.085626Z",
          "iopub.status.idle": "2024-08-19T17:38:07.097295Z",
          "shell.execute_reply.started": "2024-08-19T17:38:07.085567Z",
          "shell.execute_reply": "2024-08-19T17:38:07.096256Z"
        },
        "trusted": true,
        "id": "imyvN9aqmQpV"
      },
      "execution_count": null,
      "outputs": []
    },
    {
      "cell_type": "markdown",
      "source": [
        "#### Data Cleaning: Handle NA values"
      ],
      "metadata": {
        "id": "8uZ69d1FmQpV"
      }
    },
    {
      "cell_type": "code",
      "source": [
        "df2.isnull().sum()"
      ],
      "metadata": {
        "execution": {
          "iopub.status.busy": "2024-08-19T17:38:07.099219Z",
          "iopub.execute_input": "2024-08-19T17:38:07.099581Z",
          "iopub.status.idle": "2024-08-19T17:38:07.115983Z",
          "shell.execute_reply.started": "2024-08-19T17:38:07.099548Z",
          "shell.execute_reply": "2024-08-19T17:38:07.1147Z"
        },
        "trusted": true,
        "id": "z8Qjc_pumQpW"
      },
      "execution_count": null,
      "outputs": []
    },
    {
      "cell_type": "code",
      "source": [
        "df2.shape"
      ],
      "metadata": {
        "execution": {
          "iopub.status.busy": "2024-08-19T17:38:07.117874Z",
          "iopub.execute_input": "2024-08-19T17:38:07.118407Z",
          "iopub.status.idle": "2024-08-19T17:38:07.126113Z",
          "shell.execute_reply.started": "2024-08-19T17:38:07.118357Z",
          "shell.execute_reply": "2024-08-19T17:38:07.124908Z"
        },
        "trusted": true,
        "id": "P59M4AavmQpW"
      },
      "execution_count": null,
      "outputs": []
    },
    {
      "cell_type": "code",
      "source": [
        "df3 = df2.dropna()\n",
        "df3.isnull().sum()"
      ],
      "metadata": {
        "execution": {
          "iopub.status.busy": "2024-08-19T17:38:07.127804Z",
          "iopub.execute_input": "2024-08-19T17:38:07.128309Z",
          "iopub.status.idle": "2024-08-19T17:38:07.160191Z",
          "shell.execute_reply.started": "2024-08-19T17:38:07.128261Z",
          "shell.execute_reply": "2024-08-19T17:38:07.159123Z"
        },
        "trusted": true,
        "id": "M5CVq9ZKmQpW"
      },
      "execution_count": null,
      "outputs": []
    },
    {
      "cell_type": "code",
      "source": [
        "df3.shape"
      ],
      "metadata": {
        "execution": {
          "iopub.status.busy": "2024-08-19T17:38:07.161837Z",
          "iopub.execute_input": "2024-08-19T17:38:07.162249Z",
          "iopub.status.idle": "2024-08-19T17:38:07.169328Z",
          "shell.execute_reply.started": "2024-08-19T17:38:07.16221Z",
          "shell.execute_reply": "2024-08-19T17:38:07.167986Z"
        },
        "trusted": true,
        "id": "fPnVbL1PmQpW"
      },
      "execution_count": null,
      "outputs": []
    },
    {
      "cell_type": "code",
      "source": [
        "df3['size'].unique()"
      ],
      "metadata": {
        "execution": {
          "iopub.status.busy": "2024-08-19T17:38:07.171233Z",
          "iopub.execute_input": "2024-08-19T17:38:07.171758Z",
          "iopub.status.idle": "2024-08-19T17:38:07.183896Z",
          "shell.execute_reply.started": "2024-08-19T17:38:07.17171Z",
          "shell.execute_reply": "2024-08-19T17:38:07.182894Z"
        },
        "trusted": true,
        "id": "4R2BKPMymQpW"
      },
      "execution_count": null,
      "outputs": []
    },
    {
      "cell_type": "markdown",
      "source": [
        "#### Feature Engineering\n",
        "#### Add new feature(integer) for bhk (Bedrooms Hall Kitchen)"
      ],
      "metadata": {
        "id": "G9T8jwXnmQpX"
      }
    },
    {
      "cell_type": "code",
      "source": [
        "df3['bhk'] = df3['size'].apply(lambda x: int(x.split(' ')[0]))\n",
        "df3.bhk.unique()"
      ],
      "metadata": {
        "execution": {
          "iopub.status.busy": "2024-08-19T17:38:07.185814Z",
          "iopub.execute_input": "2024-08-19T17:38:07.186255Z",
          "iopub.status.idle": "2024-08-19T17:38:07.217085Z",
          "shell.execute_reply.started": "2024-08-19T17:38:07.186203Z",
          "shell.execute_reply": "2024-08-19T17:38:07.216029Z"
        },
        "trusted": true,
        "id": "YIU5KIcdmQpX"
      },
      "execution_count": null,
      "outputs": []
    },
    {
      "cell_type": "code",
      "source": [
        "df3[df3.bhk>20]"
      ],
      "metadata": {
        "execution": {
          "iopub.status.busy": "2024-08-19T17:38:07.222687Z",
          "iopub.execute_input": "2024-08-19T17:38:07.22312Z",
          "iopub.status.idle": "2024-08-19T17:38:07.241595Z",
          "shell.execute_reply.started": "2024-08-19T17:38:07.223077Z",
          "shell.execute_reply": "2024-08-19T17:38:07.240365Z"
        },
        "trusted": true,
        "id": "vD6_zLtwmQpX"
      },
      "execution_count": null,
      "outputs": []
    },
    {
      "cell_type": "markdown",
      "source": [
        "##### Explore total_sqft feature"
      ],
      "metadata": {
        "id": "Nm0JlIYbmQpX"
      }
    },
    {
      "cell_type": "code",
      "source": [
        "def is_float(x):\n",
        "    try:\n",
        "        float(x)\n",
        "    except:\n",
        "        return False\n",
        "    return True"
      ],
      "metadata": {
        "execution": {
          "iopub.status.busy": "2024-08-19T17:38:07.247296Z",
          "iopub.execute_input": "2024-08-19T17:38:07.2478Z",
          "iopub.status.idle": "2024-08-19T17:38:07.254387Z",
          "shell.execute_reply.started": "2024-08-19T17:38:07.247748Z",
          "shell.execute_reply": "2024-08-19T17:38:07.253119Z"
        },
        "trusted": true,
        "id": "7z56bXAHmQpX"
      },
      "execution_count": null,
      "outputs": []
    },
    {
      "cell_type": "code",
      "source": [
        "df3[~df3['total_sqft'].apply(is_float)].head(10)"
      ],
      "metadata": {
        "execution": {
          "iopub.status.busy": "2024-08-19T17:38:07.255958Z",
          "iopub.execute_input": "2024-08-19T17:38:07.256548Z",
          "iopub.status.idle": "2024-08-19T17:38:07.286753Z",
          "shell.execute_reply.started": "2024-08-19T17:38:07.256513Z",
          "shell.execute_reply": "2024-08-19T17:38:07.285553Z"
        },
        "trusted": true,
        "id": "QFvQlHZemQpX"
      },
      "execution_count": null,
      "outputs": []
    },
    {
      "cell_type": "markdown",
      "source": [
        "Above shows that total_sqft can be a range (e.g. 2100-2850). For such case we can just take average of min and max value in the range. There are other cases such as 34.46Sq. Meter which one can convert to square ft using unit conversion. I am going to just drop such corner cases to keep things simple"
      ],
      "metadata": {
        "id": "H57w0d7kmQpX"
      }
    },
    {
      "cell_type": "code",
      "source": [
        "def convert_sqft_to_num(x):\n",
        "    tokens = x.split('-')\n",
        "    if len(tokens) == 2:\n",
        "        return (float(tokens[0])+float(tokens[1]))/2\n",
        "    try:\n",
        "        return float(x)\n",
        "    except:\n",
        "        return None"
      ],
      "metadata": {
        "execution": {
          "iopub.status.busy": "2024-08-19T17:38:07.288374Z",
          "iopub.execute_input": "2024-08-19T17:38:07.288833Z",
          "iopub.status.idle": "2024-08-19T17:38:07.296645Z",
          "shell.execute_reply.started": "2024-08-19T17:38:07.288785Z",
          "shell.execute_reply": "2024-08-19T17:38:07.295615Z"
        },
        "trusted": true,
        "id": "llJosbismQpX"
      },
      "execution_count": null,
      "outputs": []
    },
    {
      "cell_type": "code",
      "source": [
        "df4 = df3.copy()\n",
        "df4.total_sqft = df4.total_sqft.apply(convert_sqft_to_num)\n",
        "df4 = df4[df4.total_sqft.notnull()]\n",
        "df4.head(2)"
      ],
      "metadata": {
        "execution": {
          "iopub.status.busy": "2024-08-19T17:38:07.297937Z",
          "iopub.execute_input": "2024-08-19T17:38:07.298252Z",
          "iopub.status.idle": "2024-08-19T17:38:07.336498Z",
          "shell.execute_reply.started": "2024-08-19T17:38:07.298221Z",
          "shell.execute_reply": "2024-08-19T17:38:07.335551Z"
        },
        "trusted": true,
        "id": "Kj_hx2OVmQpX"
      },
      "execution_count": null,
      "outputs": []
    },
    {
      "cell_type": "markdown",
      "source": [
        "For below row, it shows total_sqft as 2475 which is an average of the range 2100-2850"
      ],
      "metadata": {
        "id": "XsDrbDRqmQpY"
      }
    },
    {
      "cell_type": "code",
      "source": [
        "df4.loc[30]"
      ],
      "metadata": {
        "execution": {
          "iopub.status.busy": "2024-08-19T17:38:07.338465Z",
          "iopub.execute_input": "2024-08-19T17:38:07.338903Z",
          "iopub.status.idle": "2024-08-19T17:38:07.347609Z",
          "shell.execute_reply.started": "2024-08-19T17:38:07.338857Z",
          "shell.execute_reply": "2024-08-19T17:38:07.34664Z"
        },
        "trusted": true,
        "id": "oCOYGHdSmQpY"
      },
      "execution_count": null,
      "outputs": []
    },
    {
      "cell_type": "code",
      "source": [
        "(2100+2850)/2"
      ],
      "metadata": {
        "execution": {
          "iopub.status.busy": "2024-08-19T17:38:07.349447Z",
          "iopub.execute_input": "2024-08-19T17:38:07.349877Z",
          "iopub.status.idle": "2024-08-19T17:38:07.35747Z",
          "shell.execute_reply.started": "2024-08-19T17:38:07.349832Z",
          "shell.execute_reply": "2024-08-19T17:38:07.356269Z"
        },
        "trusted": true,
        "id": "QblSuNYPmQpY"
      },
      "execution_count": null,
      "outputs": []
    },
    {
      "cell_type": "markdown",
      "source": [
        "#### Feature Engineering\n",
        "##### Add new feature called price per square feet"
      ],
      "metadata": {
        "id": "PzHJEBn1mQpY"
      }
    },
    {
      "cell_type": "code",
      "source": [
        "df5 = df4.copy()\n",
        "df5['price_per_sqft'] = df5['price']*100000/df5['total_sqft']\n",
        "df5.head()"
      ],
      "metadata": {
        "execution": {
          "iopub.status.busy": "2024-08-19T17:38:07.358927Z",
          "iopub.execute_input": "2024-08-19T17:38:07.359396Z",
          "iopub.status.idle": "2024-08-19T17:38:07.382932Z",
          "shell.execute_reply.started": "2024-08-19T17:38:07.35936Z",
          "shell.execute_reply": "2024-08-19T17:38:07.382003Z"
        },
        "trusted": true,
        "id": "VWvU7_IzmQpY"
      },
      "execution_count": null,
      "outputs": []
    },
    {
      "cell_type": "code",
      "source": [
        "df5_stats = df5['price_per_sqft'].describe()\n",
        "df5_stats"
      ],
      "metadata": {
        "execution": {
          "iopub.status.busy": "2024-08-19T17:38:07.38406Z",
          "iopub.execute_input": "2024-08-19T17:38:07.384398Z",
          "iopub.status.idle": "2024-08-19T17:38:07.397572Z",
          "shell.execute_reply.started": "2024-08-19T17:38:07.384367Z",
          "shell.execute_reply": "2024-08-19T17:38:07.396454Z"
        },
        "trusted": true,
        "id": "R1z-UhRMmQpY"
      },
      "execution_count": null,
      "outputs": []
    },
    {
      "cell_type": "markdown",
      "source": [
        "Examine locations which is a categorical variable. We need to apply dimensionality reduction technique here to reduce number of locations"
      ],
      "metadata": {
        "id": "Tv1iab3wmQpZ"
      }
    },
    {
      "cell_type": "code",
      "source": [
        "df5.location = df5.location.apply(lambda x: x.strip())\n",
        "location_stats = df5['location'].value_counts(ascending=False)\n",
        "location_stats"
      ],
      "metadata": {
        "execution": {
          "iopub.status.busy": "2024-08-19T17:38:07.399386Z",
          "iopub.execute_input": "2024-08-19T17:38:07.399994Z",
          "iopub.status.idle": "2024-08-19T17:38:07.421416Z",
          "shell.execute_reply.started": "2024-08-19T17:38:07.399937Z",
          "shell.execute_reply": "2024-08-19T17:38:07.420291Z"
        },
        "trusted": true,
        "id": "oOqgR-zemQpZ"
      },
      "execution_count": null,
      "outputs": []
    },
    {
      "cell_type": "code",
      "source": [
        "location_stats.values.sum()"
      ],
      "metadata": {
        "execution": {
          "iopub.status.busy": "2024-08-19T17:38:07.423203Z",
          "iopub.execute_input": "2024-08-19T17:38:07.42356Z",
          "iopub.status.idle": "2024-08-19T17:38:07.431339Z",
          "shell.execute_reply.started": "2024-08-19T17:38:07.423526Z",
          "shell.execute_reply": "2024-08-19T17:38:07.430372Z"
        },
        "trusted": true,
        "id": "__IBjC-fmQpZ"
      },
      "execution_count": null,
      "outputs": []
    },
    {
      "cell_type": "code",
      "source": [
        "len(location_stats[location_stats>10])"
      ],
      "metadata": {
        "execution": {
          "iopub.status.busy": "2024-08-19T17:38:07.432633Z",
          "iopub.execute_input": "2024-08-19T17:38:07.43296Z",
          "iopub.status.idle": "2024-08-19T17:38:07.444279Z",
          "shell.execute_reply.started": "2024-08-19T17:38:07.432905Z",
          "shell.execute_reply": "2024-08-19T17:38:07.443118Z"
        },
        "trusted": true,
        "id": "JQzp2dR9mQpZ"
      },
      "execution_count": null,
      "outputs": []
    },
    {
      "cell_type": "code",
      "source": [
        "len(location_stats)"
      ],
      "metadata": {
        "execution": {
          "iopub.status.busy": "2024-08-19T17:38:07.445849Z",
          "iopub.execute_input": "2024-08-19T17:38:07.446213Z",
          "iopub.status.idle": "2024-08-19T17:38:07.454761Z",
          "shell.execute_reply.started": "2024-08-19T17:38:07.446147Z",
          "shell.execute_reply": "2024-08-19T17:38:07.453459Z"
        },
        "trusted": true,
        "id": "m9Hx0qOJmQpZ"
      },
      "execution_count": null,
      "outputs": []
    },
    {
      "cell_type": "code",
      "source": [
        "len(location_stats[location_stats<=10])"
      ],
      "metadata": {
        "execution": {
          "iopub.status.busy": "2024-08-19T17:38:07.456372Z",
          "iopub.execute_input": "2024-08-19T17:38:07.456807Z",
          "iopub.status.idle": "2024-08-19T17:38:07.467112Z",
          "shell.execute_reply.started": "2024-08-19T17:38:07.456771Z",
          "shell.execute_reply": "2024-08-19T17:38:07.466078Z"
        },
        "trusted": true,
        "id": "lIbyD2J5mQpZ"
      },
      "execution_count": null,
      "outputs": []
    },
    {
      "cell_type": "markdown",
      "source": [
        "#### Dimensionality Reduction\n",
        "Any location having less than 10 data points should be tagged as \"other\" location. This way number of categories can be reduced by huge amount. Later on when we do one hot encoding, it will help us with having fewer dummy columns"
      ],
      "metadata": {
        "id": "xQ_YkXrDmQpZ"
      }
    },
    {
      "cell_type": "code",
      "source": [
        "location_stats_less_than_10 = location_stats[location_stats<=10]\n",
        "location_stats_less_than_10"
      ],
      "metadata": {
        "execution": {
          "iopub.status.busy": "2024-08-19T17:38:07.468763Z",
          "iopub.execute_input": "2024-08-19T17:38:07.469121Z",
          "iopub.status.idle": "2024-08-19T17:38:07.483773Z",
          "shell.execute_reply.started": "2024-08-19T17:38:07.469086Z",
          "shell.execute_reply": "2024-08-19T17:38:07.482813Z"
        },
        "trusted": true,
        "id": "COLCv5k8mQpe"
      },
      "execution_count": null,
      "outputs": []
    },
    {
      "cell_type": "code",
      "source": [
        "len(df5.location.unique())"
      ],
      "metadata": {
        "execution": {
          "iopub.status.busy": "2024-08-19T17:38:07.485546Z",
          "iopub.execute_input": "2024-08-19T17:38:07.485916Z",
          "iopub.status.idle": "2024-08-19T17:38:07.496487Z",
          "shell.execute_reply.started": "2024-08-19T17:38:07.485882Z",
          "shell.execute_reply": "2024-08-19T17:38:07.495414Z"
        },
        "trusted": true,
        "id": "N358QUTYmQpe"
      },
      "execution_count": null,
      "outputs": []
    },
    {
      "cell_type": "code",
      "source": [
        "df5.location = df5.location.apply(lambda x: 'other' if x in location_stats_less_than_10 else x)\n",
        "len(df5.location.unique())"
      ],
      "metadata": {
        "execution": {
          "iopub.status.busy": "2024-08-19T17:38:07.498019Z",
          "iopub.execute_input": "2024-08-19T17:38:07.498426Z",
          "iopub.status.idle": "2024-08-19T17:38:07.537102Z",
          "shell.execute_reply.started": "2024-08-19T17:38:07.498364Z",
          "shell.execute_reply": "2024-08-19T17:38:07.536109Z"
        },
        "trusted": true,
        "id": "ehJk5ggAmQpe"
      },
      "execution_count": null,
      "outputs": []
    },
    {
      "cell_type": "code",
      "source": [
        "df5.head(10)"
      ],
      "metadata": {
        "execution": {
          "iopub.status.busy": "2024-08-19T17:38:07.53859Z",
          "iopub.execute_input": "2024-08-19T17:38:07.538966Z",
          "iopub.status.idle": "2024-08-19T17:38:07.561093Z",
          "shell.execute_reply.started": "2024-08-19T17:38:07.538929Z",
          "shell.execute_reply": "2024-08-19T17:38:07.558841Z"
        },
        "trusted": true,
        "id": "c-yGfSvCmQpe"
      },
      "execution_count": null,
      "outputs": []
    },
    {
      "cell_type": "markdown",
      "source": [
        "#### Outlier Removal Using Business Logic"
      ],
      "metadata": {
        "id": "77WvfttbmQpf"
      }
    },
    {
      "cell_type": "code",
      "source": [
        "df5[df5.total_sqft/df5.bhk<300].head()"
      ],
      "metadata": {
        "execution": {
          "iopub.status.busy": "2024-08-19T17:38:07.56298Z",
          "iopub.execute_input": "2024-08-19T17:38:07.563359Z",
          "iopub.status.idle": "2024-08-19T17:38:07.58477Z",
          "shell.execute_reply.started": "2024-08-19T17:38:07.563322Z",
          "shell.execute_reply": "2024-08-19T17:38:07.58386Z"
        },
        "trusted": true,
        "id": "Li4HIrUjmQpf"
      },
      "execution_count": null,
      "outputs": []
    },
    {
      "cell_type": "code",
      "source": [
        "df5.shape"
      ],
      "metadata": {
        "execution": {
          "iopub.status.busy": "2024-08-19T17:38:07.586509Z",
          "iopub.execute_input": "2024-08-19T17:38:07.586903Z",
          "iopub.status.idle": "2024-08-19T17:38:07.592812Z",
          "shell.execute_reply.started": "2024-08-19T17:38:07.586868Z",
          "shell.execute_reply": "2024-08-19T17:38:07.591685Z"
        },
        "trusted": true,
        "id": "VBCKhrhDmQpf"
      },
      "execution_count": null,
      "outputs": []
    },
    {
      "cell_type": "code",
      "source": [
        "df6 = df5[~(df5.total_sqft/df5.bhk<300)]\n",
        "df6.shape"
      ],
      "metadata": {
        "execution": {
          "iopub.status.busy": "2024-08-19T17:38:07.594226Z",
          "iopub.execute_input": "2024-08-19T17:38:07.594585Z",
          "iopub.status.idle": "2024-08-19T17:38:07.607495Z",
          "shell.execute_reply.started": "2024-08-19T17:38:07.594534Z",
          "shell.execute_reply": "2024-08-19T17:38:07.60627Z"
        },
        "trusted": true,
        "id": "N6MGaCUPmQpf"
      },
      "execution_count": null,
      "outputs": []
    },
    {
      "cell_type": "markdown",
      "source": [
        "#### Outlier Removal Using Standard Deviation and Mean"
      ],
      "metadata": {
        "id": "tEkOu1XJmQpf"
      }
    },
    {
      "cell_type": "code",
      "source": [
        "df6.price_per_sqft.describe()"
      ],
      "metadata": {
        "execution": {
          "iopub.status.busy": "2024-08-19T17:38:07.609053Z",
          "iopub.execute_input": "2024-08-19T17:38:07.609415Z",
          "iopub.status.idle": "2024-08-19T17:38:07.620852Z",
          "shell.execute_reply.started": "2024-08-19T17:38:07.609381Z",
          "shell.execute_reply": "2024-08-19T17:38:07.619807Z"
        },
        "trusted": true,
        "id": "wdJ2mnTdmQpf"
      },
      "execution_count": null,
      "outputs": []
    },
    {
      "cell_type": "code",
      "source": [
        "def remove_pps_outliers(df):\n",
        "    df_out = pd.DataFrame()\n",
        "    for key, subdf in df.groupby('location'):\n",
        "        m = np.mean(subdf.price_per_sqft)\n",
        "        st = np.std(subdf.price_per_sqft)\n",
        "        reduced_df = subdf[(subdf.price_per_sqft>(m-st)) & (subdf.price_per_sqft<=(m+st))]\n",
        "        df_out = pd.concat([df_out,reduced_df],ignore_index=True)\n",
        "    return df_out\n",
        "df7 = remove_pps_outliers(df6)\n",
        "df7.shape"
      ],
      "metadata": {
        "execution": {
          "iopub.status.busy": "2024-08-19T17:38:07.622795Z",
          "iopub.execute_input": "2024-08-19T17:38:07.623118Z",
          "iopub.status.idle": "2024-08-19T17:38:08.418579Z",
          "shell.execute_reply.started": "2024-08-19T17:38:07.623087Z",
          "shell.execute_reply": "2024-08-19T17:38:08.417651Z"
        },
        "trusted": true,
        "id": "8xxZg5wEmQpf"
      },
      "execution_count": null,
      "outputs": []
    },
    {
      "cell_type": "markdown",
      "source": [
        "Let's check if for a given location how does the 2 BHK and 3 BHK property prices look like"
      ],
      "metadata": {
        "id": "oPUBpDH0mQpf"
      }
    },
    {
      "cell_type": "code",
      "source": [
        "def plot_scatter_chart(df,location):\n",
        "    bhk2 = df[(df.location==location) & (df.bhk==2)]\n",
        "    bhk3 = df[(df.location==location) & (df.bhk==3)]\n",
        "    matplotlib.rcParams['figure.figsize'] = (15,10)\n",
        "    plt.scatter(bhk2.total_sqft,bhk2.price,color='lightcoral',label='2 BHK', s=50)\n",
        "    plt.scatter(bhk3.total_sqft,bhk3.price,marker='+', color='darkslategray',label='3 BHK', s=50)\n",
        "    plt.xlabel(\"Total Square Feet Area\")\n",
        "    plt.ylabel(\"Price (Lakh Indian Rupees)\")\n",
        "    plt.title(location)\n",
        "    plt.legend()\n",
        "\n",
        "plot_scatter_chart(df7,\"Rajaji Nagar\")"
      ],
      "metadata": {
        "execution": {
          "iopub.status.busy": "2024-08-19T17:38:08.419917Z",
          "iopub.execute_input": "2024-08-19T17:38:08.420241Z",
          "iopub.status.idle": "2024-08-19T17:38:08.747105Z",
          "shell.execute_reply.started": "2024-08-19T17:38:08.420209Z",
          "shell.execute_reply": "2024-08-19T17:38:08.746079Z"
        },
        "trusted": true,
        "id": "UCQthFbDmQpf"
      },
      "execution_count": null,
      "outputs": []
    },
    {
      "cell_type": "markdown",
      "source": [
        "Remove those 2 BHK apartments whose price_per_sqft is less than mean price_per_sqft of 1 BHK apartment"
      ],
      "metadata": {
        "id": "g2siE6sQmQpg"
      }
    },
    {
      "cell_type": "code",
      "source": [
        "def remove_bhk_outliers(df):\n",
        "    exclude_indices = np.array([])\n",
        "    for location, location_df in df.groupby('location'):\n",
        "        bhk_stats = {}\n",
        "        for bhk, bhk_df in location_df.groupby('bhk'):\n",
        "            bhk_stats[bhk] = {\n",
        "                'mean': np.mean(bhk_df.price_per_sqft),\n",
        "                'std': np.std(bhk_df.price_per_sqft),\n",
        "                'count': bhk_df.shape[0]\n",
        "            }\n",
        "        for bhk, bhk_df in location_df.groupby('bhk'):\n",
        "            stats = bhk_stats.get(bhk-1)\n",
        "            if stats and stats['count']>5:\n",
        "                exclude_indices = np.append(exclude_indices, bhk_df[bhk_df.price_per_sqft<(stats['mean'])].index.values)\n",
        "    return df.drop(exclude_indices,axis='index')\n",
        "df8 = remove_bhk_outliers(df7)\n",
        "# df8 = df7.copy()\n",
        "df8.shape"
      ],
      "metadata": {
        "execution": {
          "iopub.status.busy": "2024-08-19T17:38:08.748896Z",
          "iopub.execute_input": "2024-08-19T17:38:08.749382Z",
          "iopub.status.idle": "2024-08-19T17:38:09.670196Z",
          "shell.execute_reply.started": "2024-08-19T17:38:08.749334Z",
          "shell.execute_reply": "2024-08-19T17:38:09.669152Z"
        },
        "trusted": true,
        "id": "dMFbeBd5mQpg"
      },
      "execution_count": null,
      "outputs": []
    },
    {
      "cell_type": "markdown",
      "source": [
        "Plot same scatter chart again to visualize price_per_sqft for 2 BHK and 3 BHK properties"
      ],
      "metadata": {
        "id": "LWNYTWd9mQpg"
      }
    },
    {
      "cell_type": "code",
      "source": [
        "plot_scatter_chart(df8,\"Rajaji Nagar\")"
      ],
      "metadata": {
        "execution": {
          "iopub.status.busy": "2024-08-19T17:38:09.671801Z",
          "iopub.execute_input": "2024-08-19T17:38:09.672236Z",
          "iopub.status.idle": "2024-08-19T17:38:09.913042Z",
          "shell.execute_reply.started": "2024-08-19T17:38:09.6722Z",
          "shell.execute_reply": "2024-08-19T17:38:09.912018Z"
        },
        "trusted": true,
        "id": "aj8_PFzqmQpg"
      },
      "execution_count": null,
      "outputs": []
    },
    {
      "cell_type": "markdown",
      "source": [
        "Based on above charts the data points highlighted in red below are outliers and they are being removed due to remove_bhk_outliers function"
      ],
      "metadata": {
        "id": "RHVvISewmQpg"
      }
    },
    {
      "cell_type": "code",
      "source": [
        "import matplotlib\n",
        "matplotlib.rcParams[\"figure.figsize\"] = (20,10)\n",
        "plt.hist(df8.price_per_sqft,rwidth=0.8, color = \"brown\")\n",
        "plt.xlabel(\"Price Per Square Feet\")\n",
        "plt.ylabel(\"Count\")"
      ],
      "metadata": {
        "execution": {
          "iopub.status.busy": "2024-08-19T17:38:09.91452Z",
          "iopub.execute_input": "2024-08-19T17:38:09.914862Z",
          "iopub.status.idle": "2024-08-19T17:38:10.154728Z",
          "shell.execute_reply.started": "2024-08-19T17:38:09.914827Z",
          "shell.execute_reply": "2024-08-19T17:38:10.153631Z"
        },
        "trusted": true,
        "id": "8xHN_P7RmQpg"
      },
      "execution_count": null,
      "outputs": []
    },
    {
      "cell_type": "markdown",
      "source": [
        "#### Outlier Removal Using Bathrooms Feature"
      ],
      "metadata": {
        "id": "i9I4LvBmmQpg"
      }
    },
    {
      "cell_type": "code",
      "source": [
        "df8.bath.unique()"
      ],
      "metadata": {
        "execution": {
          "iopub.status.busy": "2024-08-19T17:38:10.156393Z",
          "iopub.execute_input": "2024-08-19T17:38:10.156845Z",
          "iopub.status.idle": "2024-08-19T17:38:10.164896Z",
          "shell.execute_reply.started": "2024-08-19T17:38:10.156795Z",
          "shell.execute_reply": "2024-08-19T17:38:10.16375Z"
        },
        "trusted": true,
        "id": "wQK9n8jimQph"
      },
      "execution_count": null,
      "outputs": []
    },
    {
      "cell_type": "code",
      "source": [
        "plt.hist(df8.bath,rwidth=0.8, color = \"burlywood\")\n",
        "plt.xlabel(\"Number of bathrooms\")\n",
        "plt.ylabel(\"Count\")"
      ],
      "metadata": {
        "execution": {
          "iopub.status.busy": "2024-08-19T17:38:10.166365Z",
          "iopub.execute_input": "2024-08-19T17:38:10.166728Z",
          "iopub.status.idle": "2024-08-19T17:38:10.408034Z",
          "shell.execute_reply.started": "2024-08-19T17:38:10.166691Z",
          "shell.execute_reply": "2024-08-19T17:38:10.407167Z"
        },
        "trusted": true,
        "id": "UR5_pCnVmQph"
      },
      "execution_count": null,
      "outputs": []
    },
    {
      "cell_type": "code",
      "source": [
        "df8[df8.bath>10]"
      ],
      "metadata": {
        "execution": {
          "iopub.status.busy": "2024-08-19T17:38:10.409697Z",
          "iopub.execute_input": "2024-08-19T17:38:10.410044Z",
          "iopub.status.idle": "2024-08-19T17:38:10.427186Z",
          "shell.execute_reply.started": "2024-08-19T17:38:10.410008Z",
          "shell.execute_reply": "2024-08-19T17:38:10.42626Z"
        },
        "trusted": true,
        "id": "oYW05_LRmQph"
      },
      "execution_count": null,
      "outputs": []
    },
    {
      "cell_type": "markdown",
      "source": [
        "It is unusual to have 2 more bathrooms than number of bedrooms in a home"
      ],
      "metadata": {
        "id": "ANinanbtmQph"
      }
    },
    {
      "cell_type": "code",
      "source": [
        "df8[df8.bath>df8.bhk+2]"
      ],
      "metadata": {
        "execution": {
          "iopub.status.busy": "2024-08-19T17:38:10.428969Z",
          "iopub.execute_input": "2024-08-19T17:38:10.429345Z",
          "iopub.status.idle": "2024-08-19T17:38:10.448611Z",
          "shell.execute_reply.started": "2024-08-19T17:38:10.429309Z",
          "shell.execute_reply": "2024-08-19T17:38:10.447697Z"
        },
        "trusted": true,
        "id": "YzLSaSqdmQph"
      },
      "execution_count": null,
      "outputs": []
    },
    {
      "cell_type": "code",
      "source": [
        "df9 = df8[df8.bath<df8.bhk+2]\n",
        "df9.shape"
      ],
      "metadata": {
        "execution": {
          "iopub.status.busy": "2024-08-19T17:38:10.450087Z",
          "iopub.execute_input": "2024-08-19T17:38:10.450465Z",
          "iopub.status.idle": "2024-08-19T17:38:10.462041Z",
          "shell.execute_reply.started": "2024-08-19T17:38:10.450415Z",
          "shell.execute_reply": "2024-08-19T17:38:10.461104Z"
        },
        "trusted": true,
        "id": "deLcm-1emQph"
      },
      "execution_count": null,
      "outputs": []
    },
    {
      "cell_type": "code",
      "source": [
        "df9.head(2)"
      ],
      "metadata": {
        "execution": {
          "iopub.status.busy": "2024-08-19T17:38:10.463399Z",
          "iopub.execute_input": "2024-08-19T17:38:10.463746Z",
          "iopub.status.idle": "2024-08-19T17:38:10.48534Z",
          "shell.execute_reply.started": "2024-08-19T17:38:10.463696Z",
          "shell.execute_reply": "2024-08-19T17:38:10.484234Z"
        },
        "trusted": true,
        "id": "otyUNpRimQph"
      },
      "execution_count": null,
      "outputs": []
    },
    {
      "cell_type": "code",
      "source": [
        "df10 = df9.drop(['size','price_per_sqft'],axis='columns')\n",
        "df10.head(3)"
      ],
      "metadata": {
        "execution": {
          "iopub.status.busy": "2024-08-19T17:38:10.486774Z",
          "iopub.execute_input": "2024-08-19T17:38:10.487117Z",
          "iopub.status.idle": "2024-08-19T17:38:10.505367Z",
          "shell.execute_reply.started": "2024-08-19T17:38:10.487083Z",
          "shell.execute_reply": "2024-08-19T17:38:10.504257Z"
        },
        "trusted": true,
        "id": "2t5v61JQmQph"
      },
      "execution_count": null,
      "outputs": []
    },
    {
      "cell_type": "markdown",
      "source": [
        "#### Use One Hot Encoding For Location"
      ],
      "metadata": {
        "id": "zecEcPiqmQph"
      }
    },
    {
      "cell_type": "code",
      "source": [
        "dummies = pd.get_dummies(df10.location)\n",
        "dummies.head(3)"
      ],
      "metadata": {
        "execution": {
          "iopub.status.busy": "2024-08-19T17:38:10.507056Z",
          "iopub.execute_input": "2024-08-19T17:38:10.507505Z",
          "iopub.status.idle": "2024-08-19T17:38:10.536396Z",
          "shell.execute_reply.started": "2024-08-19T17:38:10.507472Z",
          "shell.execute_reply": "2024-08-19T17:38:10.535296Z"
        },
        "trusted": true,
        "id": "h_H9RDp4mQph"
      },
      "execution_count": null,
      "outputs": []
    },
    {
      "cell_type": "code",
      "source": [
        "df11 = pd.concat([df10,dummies.drop('other',axis='columns')],axis='columns')\n",
        "df11.head()"
      ],
      "metadata": {
        "execution": {
          "iopub.status.busy": "2024-08-19T17:38:10.537837Z",
          "iopub.execute_input": "2024-08-19T17:38:10.53821Z",
          "iopub.status.idle": "2024-08-19T17:38:10.575939Z",
          "shell.execute_reply.started": "2024-08-19T17:38:10.538146Z",
          "shell.execute_reply": "2024-08-19T17:38:10.574987Z"
        },
        "trusted": true,
        "id": "2dlFUNY2mQpi"
      },
      "execution_count": null,
      "outputs": []
    },
    {
      "cell_type": "code",
      "source": [
        "df12 = df11.drop('location',axis='columns')\n",
        "df12.head(2)"
      ],
      "metadata": {
        "execution": {
          "iopub.status.busy": "2024-08-19T17:38:10.577555Z",
          "iopub.execute_input": "2024-08-19T17:38:10.577901Z",
          "iopub.status.idle": "2024-08-19T17:38:10.605343Z",
          "shell.execute_reply.started": "2024-08-19T17:38:10.577867Z",
          "shell.execute_reply": "2024-08-19T17:38:10.604122Z"
        },
        "trusted": true,
        "id": "H4zKE-cGmQpi"
      },
      "execution_count": null,
      "outputs": []
    },
    {
      "cell_type": "markdown",
      "source": [
        "#### Build a Model Now......."
      ],
      "metadata": {
        "id": "KeBcuri-mQpi"
      }
    },
    {
      "cell_type": "code",
      "source": [
        "df12.shape"
      ],
      "metadata": {
        "execution": {
          "iopub.status.busy": "2024-08-19T17:38:10.606761Z",
          "iopub.execute_input": "2024-08-19T17:38:10.607104Z",
          "iopub.status.idle": "2024-08-19T17:38:10.613231Z",
          "shell.execute_reply.started": "2024-08-19T17:38:10.607069Z",
          "shell.execute_reply": "2024-08-19T17:38:10.611957Z"
        },
        "trusted": true,
        "id": "MgV4uDpmmQpi"
      },
      "execution_count": null,
      "outputs": []
    },
    {
      "cell_type": "code",
      "source": [
        "X = df12.drop(['price'],axis='columns')\n",
        "X.head(3)"
      ],
      "metadata": {
        "execution": {
          "iopub.status.busy": "2024-08-19T17:38:10.614939Z",
          "iopub.execute_input": "2024-08-19T17:38:10.615445Z",
          "iopub.status.idle": "2024-08-19T17:38:10.645465Z",
          "shell.execute_reply.started": "2024-08-19T17:38:10.615371Z",
          "shell.execute_reply": "2024-08-19T17:38:10.644463Z"
        },
        "trusted": true,
        "id": "8GfPFBoEmQpi"
      },
      "execution_count": null,
      "outputs": []
    },
    {
      "cell_type": "code",
      "source": [
        "X.shape"
      ],
      "metadata": {
        "execution": {
          "iopub.status.busy": "2024-08-19T17:38:10.647136Z",
          "iopub.execute_input": "2024-08-19T17:38:10.647538Z",
          "iopub.status.idle": "2024-08-19T17:38:10.653782Z",
          "shell.execute_reply.started": "2024-08-19T17:38:10.647503Z",
          "shell.execute_reply": "2024-08-19T17:38:10.652714Z"
        },
        "trusted": true,
        "id": "ebZrIBNCmQpi"
      },
      "execution_count": null,
      "outputs": []
    },
    {
      "cell_type": "code",
      "source": [
        "y = df12.price\n",
        "y.head(3)"
      ],
      "metadata": {
        "execution": {
          "iopub.status.busy": "2024-08-19T17:38:10.655701Z",
          "iopub.execute_input": "2024-08-19T17:38:10.656273Z",
          "iopub.status.idle": "2024-08-19T17:38:10.667566Z",
          "shell.execute_reply.started": "2024-08-19T17:38:10.656223Z",
          "shell.execute_reply": "2024-08-19T17:38:10.665983Z"
        },
        "trusted": true,
        "id": "Qm-9VA-amQpi"
      },
      "execution_count": null,
      "outputs": []
    },
    {
      "cell_type": "code",
      "source": [
        "len(y)"
      ],
      "metadata": {
        "execution": {
          "iopub.status.busy": "2024-08-19T17:38:10.669121Z",
          "iopub.execute_input": "2024-08-19T17:38:10.669526Z",
          "iopub.status.idle": "2024-08-19T17:38:10.679384Z",
          "shell.execute_reply.started": "2024-08-19T17:38:10.669489Z",
          "shell.execute_reply": "2024-08-19T17:38:10.678025Z"
        },
        "trusted": true,
        "id": "JaDrse3KmQpi"
      },
      "execution_count": null,
      "outputs": []
    },
    {
      "cell_type": "code",
      "source": [
        "from sklearn.model_selection import train_test_split\n",
        "X_train, X_test, y_train, y_test = train_test_split(X,y,test_size=0.2,random_state=10)"
      ],
      "metadata": {
        "execution": {
          "iopub.status.busy": "2024-08-19T17:38:10.681294Z",
          "iopub.execute_input": "2024-08-19T17:38:10.681792Z"
        },
        "trusted": true,
        "id": "dcwz0fxYmQpi"
      },
      "execution_count": null,
      "outputs": []
    },
    {
      "cell_type": "code",
      "source": [
        "from sklearn.linear_model import LinearRegression\n",
        "lr_clf = LinearRegression()\n",
        "lr_clf.fit(X_train,y_train)\n",
        "lr_clf.score(X_test,y_test)"
      ],
      "metadata": {
        "trusted": true,
        "id": "fx-hMllVmQpj"
      },
      "execution_count": null,
      "outputs": []
    },
    {
      "cell_type": "markdown",
      "source": [
        "#### Use K Fold cross validation to measure accuracy of our LinearRegression model"
      ],
      "metadata": {
        "id": "NPUChgYdmQpj"
      }
    },
    {
      "cell_type": "code",
      "source": [
        "from sklearn.model_selection import ShuffleSplit\n",
        "from sklearn.model_selection import cross_val_score\n",
        "\n",
        "cv = ShuffleSplit(n_splits=5, test_size=0.2, random_state=0)\n",
        "\n",
        "cross_val_score(LinearRegression(), X, y, cv=cv)"
      ],
      "metadata": {
        "trusted": true,
        "id": "UMpsz6l4mQpj"
      },
      "execution_count": null,
      "outputs": []
    },
    {
      "cell_type": "markdown",
      "source": [
        "#### Find best model using GridSearchCV"
      ],
      "metadata": {
        "id": "5gAzDNr2mQpj"
      }
    },
    {
      "cell_type": "code",
      "source": [
        "from sklearn.model_selection import GridSearchCV\n",
        "\n",
        "from sklearn.linear_model import Lasso\n",
        "from sklearn.tree import DecisionTreeRegressor\n",
        "\n",
        "def find_best_model_using_gridsearchcv(X,y):\n",
        "    algos = {\n",
        "        'linear_regression' : {\n",
        "            'model': LinearRegression(),\n",
        "            'params': {\n",
        "                'normalize': [True, False]\n",
        "            }\n",
        "        },\n",
        "        'lasso': {\n",
        "            'model': Lasso(),\n",
        "            'params': {\n",
        "                'alpha': [1,2],\n",
        "                'selection': ['random', 'cyclic']\n",
        "            }\n",
        "        },\n",
        "        'decision_tree': {\n",
        "            'model': DecisionTreeRegressor(),\n",
        "            'params': {\n",
        "                'criterion' : ['mse','friedman_mse'],\n",
        "                'splitter': ['best','random']\n",
        "            }\n",
        "        }\n",
        "    }\n",
        "    scores = []\n",
        "    cv = ShuffleSplit(n_splits=5, test_size=0.2, random_state=0)\n",
        "    for algo_name, config in algos.items():\n",
        "        gs =  GridSearchCV(config['model'], config['params'], cv=cv, return_train_score=False)\n",
        "        gs.fit(X,y)\n",
        "        scores.append({\n",
        "            'model': algo_name,\n",
        "            'best_score': gs.best_score_,\n",
        "            'best_params': gs.best_params_\n",
        "        })\n",
        "\n",
        "    return pd.DataFrame(scores,columns=['model','best_score','best_params'])\n",
        "\n",
        "find_best_model_using_gridsearchcv(X,y)"
      ],
      "metadata": {
        "trusted": true,
        "id": "xjCkZQhUmQpj"
      },
      "execution_count": null,
      "outputs": []
    },
    {
      "cell_type": "markdown",
      "source": [
        "#### Test the model for few properties"
      ],
      "metadata": {
        "id": "82IaJQDomQpj"
      }
    },
    {
      "cell_type": "code",
      "source": [
        "def predict_price(location,sqft,bath,bhk):\n",
        "    loc_index = np.where(X.columns==location)[0][0]\n",
        "\n",
        "    x = np.zeros(len(X.columns))\n",
        "    x[0] = sqft\n",
        "    x[1] = bath\n",
        "    x[2] = bhk\n",
        "    if loc_index >= 0:\n",
        "        x[loc_index] = 1\n",
        "\n",
        "    return lr_clf.predict([x])[0]"
      ],
      "metadata": {
        "trusted": true,
        "id": "eI9Jy7CZmQpk"
      },
      "execution_count": null,
      "outputs": []
    },
    {
      "cell_type": "code",
      "source": [
        "predict_price('1st Phase JP Nagar',1000, 1, 2)"
      ],
      "metadata": {
        "trusted": true,
        "colab": {
          "base_uri": "https://localhost:8080/",
          "height": 141
        },
        "id": "_ii_nxWFmQpk",
        "outputId": "cc867d45-c7ce-4d11-c768-3e055f74f051"
      },
      "execution_count": 1,
      "outputs": [
        {
          "output_type": "error",
          "ename": "NameError",
          "evalue": "name 'predict_price' is not defined",
          "traceback": [
            "\u001b[0;31m---------------------------------------------------------------------------\u001b[0m",
            "\u001b[0;31mNameError\u001b[0m                                 Traceback (most recent call last)",
            "\u001b[0;32m<ipython-input-1-ebbecda04447>\u001b[0m in \u001b[0;36m<cell line: 1>\u001b[0;34m()\u001b[0m\n\u001b[0;32m----> 1\u001b[0;31m \u001b[0mpredict_price\u001b[0m\u001b[0;34m(\u001b[0m\u001b[0;34m'1st Phase JP Nagar'\u001b[0m\u001b[0;34m,\u001b[0m\u001b[0;36m1000\u001b[0m\u001b[0;34m,\u001b[0m \u001b[0;36m1\u001b[0m\u001b[0;34m,\u001b[0m \u001b[0;36m2\u001b[0m\u001b[0;34m)\u001b[0m\u001b[0;34m\u001b[0m\u001b[0;34m\u001b[0m\u001b[0m\n\u001b[0m",
            "\u001b[0;31mNameError\u001b[0m: name 'predict_price' is not defined"
          ]
        }
      ]
    },
    {
      "cell_type": "code",
      "source": [
        "predict_price('1st Phase JP Nagar',1450, 4, 4)"
      ],
      "metadata": {
        "trusted": true,
        "id": "hqhoOa57mQpk"
      },
      "execution_count": null,
      "outputs": []
    },
    {
      "cell_type": "code",
      "source": [
        "predict_price('Indira Nagar',1000, 2, 2)"
      ],
      "metadata": {
        "trusted": true,
        "id": "LB52hGBAmQpk"
      },
      "execution_count": null,
      "outputs": []
    },
    {
      "cell_type": "code",
      "source": [
        "predict_price('Indira Nagar',1500, 5, 5)"
      ],
      "metadata": {
        "trusted": true,
        "id": "ECcuVBSHmQpk"
      },
      "execution_count": null,
      "outputs": []
    },
    {
      "cell_type": "code",
      "source": [],
      "metadata": {
        "trusted": true,
        "id": "3GfieNMqmQpk"
      },
      "execution_count": null,
      "outputs": []
    }
  ]
}